{
 "cells": [
  {
   "cell_type": "code",
   "execution_count": 1,
   "metadata": {},
   "outputs": [],
   "source": [
    "from langchain_openai import ChatOpenAI\n",
    "_llm=ChatOpenAI(\n",
    "    api_key=\"ollama\", #ollama api_key随便写\n",
    "    model=\"qwen2.5:7b\", #看ollama中的名\n",
    "    base_url=\"http://192.168.10.11:60006/v1\",#注意后面加v1\n",
    "    temperature=0.7\n",
    ")"
   ]
  },
  {
   "cell_type": "code",
   "execution_count": 2,
   "metadata": {},
   "outputs": [],
   "source": [
    "from typing import Annotated\n",
    "from langchain_core.tools import tool\n",
    "\n",
    "@tool\n",
    "def weather(city:Annotated[str,\"被查询的城市,用中文输入\"]) -> str:\n",
    "    \"\"\"\n",
    "    用于查询输入城市今日的天气状况。\n",
    "    \"\"\"\n",
    "    if city==\"上海\":\n",
    "        return \"上海今日有台风12级\"\n",
    "    else:\n",
    "        return \"天气晴朗，风和日丽\""
   ]
  },
  {
   "cell_type": "code",
   "execution_count": 6,
   "metadata": {},
   "outputs": [],
   "source": [
    "from langgraph.prebuilt import create_react_agent\n",
    "from langchain_core.messages import HumanMessage\n",
    "# 创建一个agent代理\n",
    "_agent_executor=create_react_agent(_llm,[weather,])\n",
    "_message=[\n",
    "    HumanMessage(\"今天上海的天气怎么样？\")\n",
    "]\n",
    "#规定格式\n",
    "rep=_agent_executor.invoke({\"messages\":_message})\n"
   ]
  },
  {
   "cell_type": "code",
   "execution_count": 10,
   "metadata": {},
   "outputs": [
    {
     "data": {
      "text/plain": [
       "'今天上海正经历着12级台风，出门请注意安全！请尽量待在室内，并远离窗户和广告牌等可能被风吹落的物体。希望您能平安度过这次天气事件。'"
      ]
     },
     "execution_count": 10,
     "metadata": {},
     "output_type": "execute_result"
    }
   ],
   "source": [
    "rep[\"messages\"][-1].content"
   ]
  }
 ],
 "metadata": {
  "kernelspec": {
   "display_name": "py310",
   "language": "python",
   "name": "python3"
  },
  "language_info": {
   "codemirror_mode": {
    "name": "ipython",
    "version": 3
   },
   "file_extension": ".py",
   "mimetype": "text/x-python",
   "name": "python",
   "nbconvert_exporter": "python",
   "pygments_lexer": "ipython3",
   "version": "3.10.14"
  }
 },
 "nbformat": 4,
 "nbformat_minor": 2
}
