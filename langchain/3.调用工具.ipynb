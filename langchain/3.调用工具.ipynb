{
 "cells": [
  {
   "cell_type": "code",
   "execution_count": 18,
   "metadata": {},
   "outputs": [],
   "source": [
    "from langchain_openai import ChatOpenAI\n",
    "\n",
    "_llm=ChatOpenAI(\n",
    "    api_key=\"ollama\", #ollama api_key随便写\n",
    "    model=\"qwen2.5:7b\", #看ollama中的名\n",
    "    base_url=\"http://192.168.10.11:60006/v1\",#注意后面加v1\n",
    "    temperature=0.7\n",
    ")"
   ]
  },
  {
   "cell_type": "markdown",
   "metadata": {},
   "source": [
    "#### langchain调用工具"
   ]
  },
  {
   "cell_type": "code",
   "execution_count": 19,
   "metadata": {},
   "outputs": [
    {
     "data": {
      "text/plain": [
       "AIMessage(content='很抱歉，作为一项云服务的人工智能模型，我无法提供实时信息或天气预报。但你可以查询网络上的天气服务以获得上海今天的最新天气情况。通常，你可以在气象局官网、使用新闻应用或者查看一些流行的搜索引擎来获取这样的信息。这些平台能够为你提供包括温度、湿度、风速和降雨量等在内的详细天气状况以及未来几天的预测。', additional_kwargs={'refusal': None}, response_metadata={'token_usage': {'completion_tokens': 84, 'prompt_tokens': 34, 'total_tokens': 118, 'completion_tokens_details': None}, 'model_name': 'qwen2.5:7b', 'system_fingerprint': 'fp_ollama', 'finish_reason': 'stop', 'logprobs': None}, id='run-5ad635fc-5bfe-42ee-8a63-ac16e18779c0-0', usage_metadata={'input_tokens': 34, 'output_tokens': 84, 'total_tokens': 118, 'input_token_details': {}, 'output_token_details': {}})"
      ]
     },
     "execution_count": 19,
     "metadata": {},
     "output_type": "execute_result"
    }
   ],
   "source": [
    "#没用工具可以调用时\n",
    "_llm.invoke(\"今天上海的天气怎么样\")"
   ]
  },
  {
   "cell_type": "markdown",
   "metadata": {},
   "source": [
    "##### 定义一个工具"
   ]
  },
  {
   "cell_type": "markdown",
   "metadata": {},
   "source": [
    "###### 要写清楚注释，让大模型知道这个工具是做什么的"
   ]
  },
  {
   "cell_type": "code",
   "execution_count": 20,
   "metadata": {},
   "outputs": [],
   "source": [
    "from typing import Annotated\n",
    "from langchain_core.tools import tool\n",
    "#规范的参数定义\n",
    "@tool\n",
    "def weather(city:Annotated[str,\"被查询的城市，用中文输入\"]) -> str:\n",
    "    \"\"\"\n",
    "    用于查询输入城市今日的天气状况\n",
    "    \"\"\"\n",
    "    if city==\"上海\":\n",
    "        return \"上海今日有18级台风\"\n",
    "    else:\n",
    "        return \"晴空万里\""
   ]
  },
  {
   "cell_type": "markdown",
   "metadata": {},
   "source": [
    "##### 将工具tool与大模型绑定"
   ]
  },
  {
   "cell_type": "code",
   "execution_count": 21,
   "metadata": {},
   "outputs": [],
   "source": [
    "_tools=[weather,]\n",
    "_llm_with_tools=_llm.bind_tools(_tools)"
   ]
  },
  {
   "cell_type": "code",
   "execution_count": 22,
   "metadata": {},
   "outputs": [],
   "source": [
    "# 定义消息\n",
    "_message=[\n",
    "    (\"human\",\"今天上海的天气怎么样？\")\n",
    "]\n"
   ]
  },
  {
   "cell_type": "code",
   "execution_count": 23,
   "metadata": {},
   "outputs": [
    {
     "data": {
      "text/plain": [
       "[{'name': 'weather',\n",
       "  'args': {'city': '上海'},\n",
       "  'id': 'call_oxzrsfjv',\n",
       "  'type': 'tool_call'}]"
      ]
     },
     "execution_count": 23,
     "metadata": {},
     "output_type": "execute_result"
    }
   ],
   "source": [
    "rep = _llm_with_tools.invoke(_message)\n",
    "rep"
   ]
  },
  {
   "cell_type": "markdown",
   "metadata": {},
   "source": [
    "##### 调用工具"
   ]
  },
  {
   "cell_type": "code",
   "execution_count": 24,
   "metadata": {},
   "outputs": [
    {
     "data": {
      "text/plain": [
       "AIMessage(content='实际上，上海市并不会受到18级台风的影响。目前上海地区的气象信息显示，并没有报告有18级台风靠近或影响该地区。\\n\\n如果你是指特定日期的情况，请提供具体日期，或者确认是否是其他地方出现的台风。对于最新的天气和台风动态，建议查询官方气象台或预报网站获取准确的信息。', additional_kwargs={'refusal': None}, response_metadata={'token_usage': {'completion_tokens': 71, 'prompt_tokens': 42, 'total_tokens': 113, 'completion_tokens_details': None}, 'model_name': 'qwen2.5:7b', 'system_fingerprint': 'fp_ollama', 'finish_reason': 'stop', 'logprobs': None}, id='run-0621461c-905e-48ee-a979-b92adf47f165-0', usage_metadata={'input_tokens': 42, 'output_tokens': 71, 'total_tokens': 113, 'input_token_details': {}, 'output_token_details': {}})"
      ]
     },
     "execution_count": 24,
     "metadata": {},
     "output_type": "execute_result"
    }
   ],
   "source": [
    "from langchain_core.messages import ToolMessage\n",
    "if rep.tool_calls is not None or len(rep.tool_calls) >0:\n",
    "    _message.append(rep)\n",
    "    for _tool in rep.tool_calls:\n",
    "        _function=eval(_tool[\"name\"])\n",
    "        # function使用invoke，需要指明上方waeather是工具\n",
    "        _tool_rep=_function.invoke(_tool[\"args\"])\n",
    "        #将调用工具的结果返回给大模型进行总结，即叠加至消息中\n",
    "        _message.append(_tool_rep)\n",
    "_llm.invoke(_message)\n"
   ]
  }
 ],
 "metadata": {
  "kernelspec": {
   "display_name": "py310",
   "language": "python",
   "name": "python3"
  },
  "language_info": {
   "codemirror_mode": {
    "name": "ipython",
    "version": 3
   },
   "file_extension": ".py",
   "mimetype": "text/x-python",
   "name": "python",
   "nbconvert_exporter": "python",
   "pygments_lexer": "ipython3",
   "version": "3.10.14"
  }
 },
 "nbformat": 4,
 "nbformat_minor": 2
}
