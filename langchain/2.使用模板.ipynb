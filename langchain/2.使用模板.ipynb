{
 "cells": [
  {
   "cell_type": "code",
   "execution_count": 1,
   "metadata": {},
   "outputs": [],
   "source": [
    "from langchain_openai import ChatOpenAI\n",
    "\n",
    "_llm=ChatOpenAI(\n",
    "    api_key=\"ollama\", #ollama api_key随便写\n",
    "    model=\"qwen2.5:7b\", #看ollama中的名\n",
    "    base_url=\"http://192.168.10.11:60006/v1\",#注意后面加v1\n",
    "    temperature=0.7\n",
    ")"
   ]
  },
  {
   "cell_type": "markdown",
   "metadata": {},
   "source": [
    "##### 定义模板"
   ]
  },
  {
   "cell_type": "code",
   "execution_count": 13,
   "metadata": {},
   "outputs": [],
   "source": [
    "from langchain_core.prompts import ChatPromptTemplate\n",
    "\n",
    "_message=ChatPromptTemplate([\n",
    "    (\"system\",\"你是一个翻译官，把用户的输入翻译成{language}\"),\n",
    "    # (\"system\",\"{language}\"),\n",
    "    (\"human\",\"{content}\")\n",
    "])"
   ]
  },
  {
   "cell_type": "code",
   "execution_count": 4,
   "metadata": {},
   "outputs": [],
   "source": [
    "#创建一个输出\n",
    "from langchain_core.output_parsers import StrOutputParser\n",
    "_strOutputParser=StrOutputParser()"
   ]
  },
  {
   "cell_type": "code",
   "execution_count": 16,
   "metadata": {},
   "outputs": [
    {
     "data": {
      "text/plain": [
       "AIMessage(content='Guten Morgen', additional_kwargs={'refusal': None}, response_metadata={'token_usage': {'completion_tokens': 5, 'prompt_tokens': 29, 'total_tokens': 34, 'completion_tokens_details': None}, 'model_name': 'qwen2.5:7b', 'system_fingerprint': 'fp_ollama', 'finish_reason': 'stop', 'logprobs': None}, id='run-55913c35-de6f-4d03-a838-53bffd8bc828-0', usage_metadata={'input_tokens': 29, 'output_tokens': 5, 'total_tokens': 34, 'input_token_details': {}, 'output_token_details': {}})"
      ]
     },
     "execution_count": 16,
     "metadata": {},
     "output_type": "execute_result"
    }
   ],
   "source": [
    "rep = _message.invoke({\"language\":\"翻译成德语\",\"content\":\"上午好\"})\n",
    "_llm.invoke(rep)"
   ]
  },
  {
   "cell_type": "markdown",
   "metadata": {},
   "source": [
    "##### 使用管道"
   ]
  },
  {
   "cell_type": "code",
   "execution_count": 17,
   "metadata": {},
   "outputs": [
    {
     "data": {
      "text/plain": [
       "'Guten Morgen'"
      ]
     },
     "execution_count": 17,
     "metadata": {},
     "output_type": "execute_result"
    }
   ],
   "source": [
    "_chain =_message |_llm|_strOutputParser\n",
    "_chain.invoke({\"language\":\"翻译成德语\",\"content\":\"上午好\"})"
   ]
  }
 ],
 "metadata": {
  "kernelspec": {
   "display_name": "py310",
   "language": "python",
   "name": "python3"
  },
  "language_info": {
   "codemirror_mode": {
    "name": "ipython",
    "version": 3
   },
   "file_extension": ".py",
   "mimetype": "text/x-python",
   "name": "python",
   "nbconvert_exporter": "python",
   "pygments_lexer": "ipython3",
   "version": "3.10.14"
  }
 },
 "nbformat": 4,
 "nbformat_minor": 2
}
